{
  "cells": [
    {
      "cell_type": "markdown",
      "metadata": {
        "id": "view-in-github",
        "colab_type": "text"
      },
      "source": [
        "<a href=\"https://colab.research.google.com/github/Modelagem-RHA-Engenharia/import_data_csv_to_ascii_MGB/blob/main/import_data_csv_to_ascii_MGB.ipynb\" target=\"_parent\"><img src=\"https://colab.research.google.com/assets/colab-badge.svg\" alt=\"Open In Colab\"/></a>"
      ]
    },
    {
      "cell_type": "markdown",
      "metadata": {
        "id": "Lhy3dIykT5uW"
      },
      "source": [
        "***********************************************************************\n",
        "\n",
        "*! IMPORTA ARQUIVO DO PC EM FORMATO CSV DELIMITADO POR ';' E '0.0000'*\n",
        "\n",
        "*! E EXPORTA EM ASCII, FORMATO QUE LER NO MGB-IPH*\n",
        "\n",
        "*! Implementado em Python 3.x por BATYSTUTA ROCHA, maio de 2023 !*\n",
        "\n",
        "***********************************************************************"
      ]
    },
    {
      "cell_type": "code",
      "execution_count": null,
      "metadata": {
        "id": "Cgdm-mq6ROon"
      },
      "outputs": [],
      "source": [
        "from tqdm import tqdm\n",
        "import time\n",
        "\n",
        "import os\n",
        "import glob\n",
        "import numpy as np\n",
        "import pandas as pd\n",
        "from datetime import datetime as dt"
      ]
    },
    {
      "cell_type": "code",
      "execution_count": null,
      "metadata": {
        "id": "V9WlljluSzW3"
      },
      "outputs": [],
      "source": [
        "my_dir = input(\"Diretório da pasta: \")\n",
        "print('Seu diretório é:', my_dir)\n",
        "time.sleep(1)\n",
        "    \n",
        "# my_dir = f'C:/Users/modelagem/Downloads/Chuva'\n",
        "files = glob.glob(my_dir+f'/*.csv')\n",
        "\n",
        "# Nome das colunas\n",
        "_columms_names = [\n",
        "                  'dia',\n",
        "                  'mes',\n",
        "                  'ano',\n",
        "                  'valor'\n",
        "                 ] \n",
        "\n",
        "# Tipo dos dados da coluna\n",
        "_dtype = {\n",
        "          'dia': int,\n",
        "          'mes': int,\n",
        "          'ano': int,\n",
        "          'valor': float\n",
        "         }\n",
        "\n",
        "# for file, filename in files:\n",
        "for file in files:\n",
        "    df = pd.read_csv(file, \n",
        "                     # Tipo de delimitador\n",
        "                     delimiter=';',\n",
        "                     # Nome das colunas\n",
        "                     names= _columms_names,\n",
        "                     # Tipo dos dados da coluna\n",
        "                     dtype=_dtype\n",
        "                    ).reset_index(drop=True)\n",
        "    df['valor'] = df['valor'].apply('{:,.6f}'.format)\n",
        "    df['nan'] = np.nan\n",
        "    df = df[['dia', 'mes', 'ano', 'nan', 'valor']]\n",
        "       \n",
        "    # Check if the directory exists\n",
        "    if not os.path.exists(my_dir+f'/ascii_mgb'):\n",
        "        # If it doesn't exist, create it\n",
        "        os.makedirs(my_dir+r'\\ascii_mgb')\n",
        "\n",
        "    name = file.replace(my_dir,'').replace('.csv', '.txt')\n",
        "    text_file = open(my_dir+f'/ascii_mgb/'+name, \"w\")\n",
        "    text_file.write(df.to_string(col_space=[6,5,5,5,2], justify='right', max_colwidth=10, index=False, header=False).replace(\"NaN\", \"   \"))\n",
        "    text_file.close()"
      ]
    }
  ],
  "metadata": {
    "colab": {
      "provenance": [],
      "include_colab_link": true
    },
    "kernelspec": {
      "display_name": "Python 3",
      "name": "python3"
    }
  },
  "nbformat": 4,
  "nbformat_minor": 0
}